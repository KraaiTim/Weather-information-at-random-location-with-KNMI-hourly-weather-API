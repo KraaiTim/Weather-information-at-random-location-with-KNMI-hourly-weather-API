{
 "cells": [
  {
   "cell_type": "markdown",
   "metadata": {},
   "source": [
    "## Weather information at random location with KNMI hourly weather API\n",
    "\n",
    "This project uses the KNMI Hourly weather information to determine the weather at a random location at a random day and hour.\n",
    "The weather information for the Netherlands is requested from the [KNMI API](https://www.knmi.nl/kennis-en-datacentrum/achtergrond/data-ophalen-vanuit-een-script). and the random locations are determined for The Netherlands."
   ]
  },
  {
   "cell_type": "markdown",
   "metadata": {},
   "source": [
    "### 1. Determine a random date random, call the KNMI weather data API and store the weather and weather stations information"
   ]
  },
  {
   "cell_type": "code",
   "execution_count": 123,
   "metadata": {},
   "outputs": [
    {
     "name": "stdout",
     "output_type": "stream",
     "text": [
      "start date: 20220701\n",
      "end date: 20220729\n"
     ]
    }
   ],
   "source": [
    "\"\"\"\n",
    "Created on Wed Aug  31\n",
    "\n",
    "@author: kraaitim\n",
    "\"\"\"\n",
    "import random\n",
    "import requests\n",
    "from io import StringIO\n",
    "import pandas as pd\n",
    "\n",
    "random_start_day = random.randint(1, 10)  # Random start day\n",
    "random_end_day = random.randint(random_start_day, 30)  # Random end day\n",
    "# Random start month between January and March\n",
    "random_start_month = random.randint(5, 7)\n",
    "# Random month between start month and August\n",
    "random_end_month = random.randint(random_start_month, 8)\n",
    "random_year = 2022\n",
    "print(\n",
    "    f'start date: {random_year}{str(random_start_month).zfill(2)}{str(random_start_day).zfill(2)}')\n",
    "print(\n",
    "    f'end date: {random_year}{str(random_end_month).zfill(2)}{str(random_end_day).zfill(2)}')\n",
    "\n",
    "# API call parameters\n",
    "params = {\n",
    "    # Random start date in format YYYYMMDD\n",
    "    \"start\": f'{random_year}{str(random_start_month).zfill(2)}{str(random_start_day).zfill(2)}',\n",
    "    # Random end date in format YYYYMMDD\n",
    "    \"end\": f'{random_year}{str(random_end_month).zfill(2)}{str(random_end_day).zfill(2)}',\n",
    "    \"vars\": \"T:M:R:S:O:Y\",  # Temperatuur, Mist, Regen, Sneeuw, Onweer, Ijsvorming\n",
    "    \"snts\": \"ALL\"  # All 49 locations\n",
    "    # \"fmt\": \"json\" #Output JSON\n",
    "}\n",
    "# String for the API call\n",
    "items = '&'.join(f'{key}={value}' for key, value in params.items())\n",
    "\n",
    "# POST API call to KNMI\n",
    "# https://www.knmi.nl/kennis-en-datacentrum/achtergrond/data-ophalen-vanuit-een-script\n",
    "response = requests.post(\n",
    "    'https://www.daggegevens.knmi.nl/klimatologie/uurgegevens', data=items)\n",
    "\n",
    "# Decode bytes to string\n",
    "decoded_response = response.content.decode()\n",
    "# Create a text buffer and read the text into a pandas DataFrame\n",
    "weather_data = pd.read_csv(StringIO(decoded_response), sep=\",\", comment=\"#\", skiprows=49, header=None, names=[\n",
    "                           \"id\", \"YYYYMMDD\", \"Hour\", \"T\", \"M\", \"R\", \"S\", \"O\", \"Y\"])\n",
    "\n",
    "# Extract location information\n",
    "locs = []\n",
    "# Loop over the 6th till the 6+49location = 55th row\n",
    "for loc in decoded_response.splitlines()[6:56]:\n",
    "    # Extract the location id, lon, lat\n",
    "    locs.append([loc[2:5], loc[14:19], loc[26:32]])\n",
    "\n",
    "# Pandas DataFrame with column names\n",
    "locations = pd.DataFrame(locs, columns=[\"id\", \"long\", \"lat\"])"
   ]
  },
  {
   "cell_type": "markdown",
   "metadata": {},
   "source": [
    "### 2. Determine a random location in The Netherlands and find the closest weather station"
   ]
  },
  {
   "cell_type": "code",
   "execution_count": 72,
   "metadata": {},
   "outputs": [
    {
     "name": "stdout",
     "output_type": "stream",
     "text": [
      "(52.26218836876165, 6.0654786855496)\n",
      "Distance (km) to closest weather station: 23.316773814396022\n",
      "Closest location: 278\n"
     ]
    }
   ],
   "source": [
    "import geopy.distance\n",
    "import numpy as np\n",
    "\n",
    "# Bounding box The Netherlands\n",
    "min_NL_long = 3.3425257166\n",
    "max_NL_long = 7.4331117122\n",
    "min_NL_lat = 50.7064973345\n",
    "max_NL_lat = 53.4897071803\n",
    "\n",
    "# Random location in the Netherlands\n",
    "random_NL_long = random.uniform(min_NL_long, max_NL_long)\n",
    "random_NL_lat = random.uniform(min_NL_lat, max_NL_lat)\n",
    "\n",
    "# Random coords tuple\n",
    "random_coords = (random_NL_lat, random_NL_long)\n",
    "print(random_coords)\n",
    "\n",
    "# Calculate distance in km between 2 coord tuples (lat, long)\n",
    "min = np.inf\n",
    "min_loc = 0\n",
    "\n",
    "# Loop over the rows of the locations to find the weather station closest to the random location\n",
    "for index, row in locations.iterrows():\n",
    "    distance = geopy.distance.geodesic(random_coords, (row.lat, row.long)).km\n",
    "    if distance < min:\n",
    "        min_loc = row.id\n",
    "        min = distance\n",
    "\n",
    "print(\"Distance (km) to closest weather station:\", min)\n",
    "print(\"Closest location:\", min_loc)\n"
   ]
  },
  {
   "cell_type": "markdown",
   "metadata": {},
   "source": [
    "### 3. Find the weather information at a random day and hour on the random location"
   ]
  },
  {
   "cell_type": "code",
   "execution_count": 146,
   "metadata": {},
   "outputs": [
    {
     "name": "stdout",
     "output_type": "stream",
     "text": [
      "start date: 20220701\n",
      "end date: 20220729\n",
      "Random date: 20220722\n",
      "Random Hour: 21\n"
     ]
    },
    {
     "data": {
      "text/html": [
       "<div>\n",
       "<style scoped>\n",
       "    .dataframe tbody tr th:only-of-type {\n",
       "        vertical-align: middle;\n",
       "    }\n",
       "\n",
       "    .dataframe tbody tr th {\n",
       "        vertical-align: top;\n",
       "    }\n",
       "\n",
       "    .dataframe thead th {\n",
       "        text-align: right;\n",
       "    }\n",
       "</style>\n",
       "<table border=\"1\" class=\"dataframe\">\n",
       "  <thead>\n",
       "    <tr style=\"text-align: right;\">\n",
       "      <th></th>\n",
       "      <th>id</th>\n",
       "      <th>YYYYMMDD</th>\n",
       "      <th>Hour</th>\n",
       "      <th>T</th>\n",
       "      <th>M</th>\n",
       "      <th>R</th>\n",
       "      <th>S</th>\n",
       "      <th>O</th>\n",
       "      <th>Y</th>\n",
       "    </tr>\n",
       "  </thead>\n",
       "  <tbody>\n",
       "    <tr>\n",
       "      <th>13052</th>\n",
       "      <td>278</td>\n",
       "      <td>20220722</td>\n",
       "      <td>21</td>\n",
       "      <td>142</td>\n",
       "      <td></td>\n",
       "      <td></td>\n",
       "      <td></td>\n",
       "      <td></td>\n",
       "      <td></td>\n",
       "    </tr>\n",
       "  </tbody>\n",
       "</table>\n",
       "</div>"
      ],
      "text/plain": [
       "        id  YYYYMMDD  Hour      T      M      R      S      O      Y\n",
       "13052  278  20220722    21    142                                   "
      ]
     },
     "execution_count": 146,
     "metadata": {},
     "output_type": "execute_result"
    }
   ],
   "source": [
    "random_hour = random.randint(1, 24)\n",
    "random_day = random.randint(random_start_day, random_end_day)\n",
    "random_month = random.randint(random_start_month, random_end_month)\n",
    "random_year = 2022\n",
    "\n",
    "#Create random date in the format of the weather data \n",
    "random_date = f'{random_year}{str(random_month).zfill(2)}{str(random_day).zfill(2)}'\n",
    "\n",
    "print(\n",
    "    f'start date: {random_year}{str(random_start_month).zfill(2)}{str(random_start_day).zfill(2)}')\n",
    "print(\n",
    "    f'end date: {random_year}{str(random_end_month).zfill(2)}{str(random_end_day).zfill(2)}')\n",
    "\n",
    "print(\"Random date:\", random_date)\n",
    "print(\"Random Hour:\", random_hour)\n",
    "\n",
    "# Filter the dataframe by the closest weather station, year, month, date and hour.\n",
    "result = weather_data[(weather_data.id == int(min_loc)) & (weather_data.YYYYMMDD == int(random_date)) & (weather_data.Hour == random_hour)]\n",
    "result\n"
   ]
  }
 ],
 "metadata": {
  "kernelspec": {
   "display_name": "Python 3.9.12 ('MasterAssignment')",
   "language": "python",
   "name": "python3"
  },
  "language_info": {
   "codemirror_mode": {
    "name": "ipython",
    "version": 3
   },
   "file_extension": ".py",
   "mimetype": "text/x-python",
   "name": "python",
   "nbconvert_exporter": "python",
   "pygments_lexer": "ipython3",
   "version": "3.9.12"
  },
  "orig_nbformat": 4,
  "vscode": {
   "interpreter": {
    "hash": "923c1a0f0a1543b32fcccc13ecf664d1b7b4d683b49ffc5d70da9a3be72d9d30"
   }
  }
 },
 "nbformat": 4,
 "nbformat_minor": 2
}
